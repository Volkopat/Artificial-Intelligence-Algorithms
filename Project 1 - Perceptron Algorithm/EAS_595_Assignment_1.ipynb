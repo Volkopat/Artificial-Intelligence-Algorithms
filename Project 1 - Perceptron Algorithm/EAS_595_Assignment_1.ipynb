{
 "cells": [
  {
   "cell_type": "markdown",
   "id": "KxM79aMVM5rH",
   "metadata": {
    "id": "KxM79aMVM5rH"
   },
   "source": [
    "## Generate or develop a perceptron algorithm using the first two classes of the MNIST dataset based on the following architectures:"
   ]
  },
  {
   "cell_type": "code",
   "execution_count": 241,
   "id": "2a410773-2289-4375-8313-15de9822132b",
   "metadata": {
    "id": "2a410773-2289-4375-8313-15de9822132b"
   },
   "outputs": [],
   "source": [
    "import pandas as pd\n",
    "import numpy as np\n",
    "import matplotlib.pyplot as plt"
   ]
  },
  {
   "cell_type": "code",
   "execution_count": 271,
   "id": "930416b1-e5e1-41a0-ba66-8beba278d9b5",
   "metadata": {
    "id": "930416b1-e5e1-41a0-ba66-8beba278d9b5"
   },
   "outputs": [],
   "source": [
    "import keras\n",
    "from keras import models\n",
    "from keras.layers import Dense\n",
    "from keras.datasets import mnist\n",
    "from tensorflow.keras.utils import to_categorical\n",
    "from keras.preprocessing.image import ImageDataGenerator\n",
    "from sklearn.metrics import confusion_matrix"
   ]
  },
  {
   "cell_type": "markdown",
   "id": "dSl3tBmeC7az",
   "metadata": {
    "id": "dSl3tBmeC7az"
   },
   "source": [
    "#### 1a. When you have two neurons at the output layer"
   ]
  },
  {
   "cell_type": "code",
   "execution_count": 243,
   "id": "b8477204-146c-4a8e-9969-716317742b12",
   "metadata": {
    "id": "b8477204-146c-4a8e-9969-716317742b12"
   },
   "outputs": [],
   "source": [
    "(x_train, y_train), (x_test, y_test) = mnist.load_data()"
   ]
  },
  {
   "cell_type": "code",
   "execution_count": 244,
   "id": "37f81c29-41ff-4e4e-99fd-a834abbd236d",
   "metadata": {
    "id": "37f81c29-41ff-4e4e-99fd-a834abbd236d"
   },
   "outputs": [],
   "source": [
    "# First 2 classes 0 and 1\n",
    "\n",
    "train_classes = y_train<2 \n",
    "y_train = y_train[train_classes]\n",
    "x_train = x_train[train_classes]\n",
    "test_classes = y_test<2\n",
    "y_test = y_test[test_classes]\n",
    "x_test = x_test[test_classes]"
   ]
  },
  {
   "cell_type": "code",
   "execution_count": 245,
   "id": "aQW0viKLRFYW",
   "metadata": {
    "id": "aQW0viKLRFYW"
   },
   "outputs": [],
   "source": [
    "# Adding 1s to every image to eliminate the 0s\n",
    "for i in range(len(x_train)):\n",
    "  x_train[i] += 1\n",
    "for i in range(len(x_test)):\n",
    "  x_test[i] += 1"
   ]
  },
  {
   "cell_type": "code",
   "execution_count": 246,
   "id": "ALANmoZQ8rH9",
   "metadata": {
    "id": "ALANmoZQ8rH9"
   },
   "outputs": [],
   "source": [
    "x_train = x_train.reshape((x_train.shape[0], x_train.shape[1] * x_train.shape[2]))\n",
    "x_test = x_test.reshape((x_test.shape[0], x_test.shape[1] * x_test.shape[2]))"
   ]
  },
  {
   "cell_type": "code",
   "execution_count": 247,
   "id": "ShOYb7foyce_",
   "metadata": {
    "id": "ShOYb7foyce_"
   },
   "outputs": [],
   "source": [
    "y_train = to_categorical(y_train, num_classes=2)\n",
    "y_test = to_categorical(y_test, num_classes=2)"
   ]
  },
  {
   "cell_type": "code",
   "execution_count": 248,
   "id": "NsCq_XPA0m4H",
   "metadata": {
    "id": "NsCq_XPA0m4H"
   },
   "outputs": [],
   "source": [
    "model = models.Sequential()\n",
    "model.add(Dense(512, activation='relu', input_shape=(x_train.shape[1],)))\n",
    "model.add(Dense(2, activation='softmax'))"
   ]
  },
  {
   "cell_type": "code",
   "execution_count": 249,
   "id": "OWY5nwiK5ZD9",
   "metadata": {
    "id": "OWY5nwiK5ZD9"
   },
   "outputs": [],
   "source": [
    "model.compile(optimizer='rmsprop', loss='categorical_crossentropy', metrics=['accuracy'])"
   ]
  },
  {
   "cell_type": "code",
   "execution_count": 250,
   "id": "Q0vHTMJ25D6C",
   "metadata": {
    "colab": {
     "base_uri": "https://localhost:8080/"
    },
    "id": "Q0vHTMJ25D6C",
    "outputId": "ba4b7979-2e17-4029-bf7b-e32199192a57"
   },
   "outputs": [
    {
     "name": "stdout",
     "output_type": "stream",
     "text": [
      "Epoch 1/10\n",
      "99/99 [==============================] - 2s 13ms/step - loss: 3.0028 - accuracy: 0.9848\n",
      "Epoch 2/10\n",
      "99/99 [==============================] - 1s 13ms/step - loss: 0.2347 - accuracy: 0.9968\n",
      "Epoch 3/10\n",
      "99/99 [==============================] - 1s 12ms/step - loss: 0.1333 - accuracy: 0.9981\n",
      "Epoch 4/10\n",
      "99/99 [==============================] - 1s 12ms/step - loss: 0.0861 - accuracy: 0.9977\n",
      "Epoch 5/10\n",
      "99/99 [==============================] - 1s 12ms/step - loss: 0.0304 - accuracy: 0.9988\n",
      "Epoch 6/10\n",
      "99/99 [==============================] - 1s 13ms/step - loss: 0.0386 - accuracy: 0.9984\n",
      "Epoch 7/10\n",
      "99/99 [==============================] - 1s 13ms/step - loss: 0.0486 - accuracy: 0.9983\n",
      "Epoch 8/10\n",
      "99/99 [==============================] - 1s 13ms/step - loss: 0.0860 - accuracy: 0.9983\n",
      "Epoch 9/10\n",
      "99/99 [==============================] - 1s 12ms/step - loss: 0.0112 - accuracy: 0.9996\n",
      "Epoch 10/10\n",
      "99/99 [==============================] - 1s 12ms/step - loss: 0.0292 - accuracy: 0.9987\n"
     ]
    },
    {
     "data": {
      "text/plain": [
       "<keras.callbacks.History at 0x7facc7b4e950>"
      ]
     },
     "execution_count": 250,
     "metadata": {},
     "output_type": "execute_result"
    }
   ],
   "source": [
    "model.fit(x_train, y_train, batch_size = 128, epochs = 10, verbose=1)"
   ]
  },
  {
   "cell_type": "code",
   "execution_count": 251,
   "id": "f3j6NzKQ-jXD",
   "metadata": {
    "colab": {
     "base_uri": "https://localhost:8080/"
    },
    "id": "f3j6NzKQ-jXD",
    "outputId": "7e32f9d4-4ffd-44ff-87b4-88051f2ddd2d"
   },
   "outputs": [
    {
     "name": "stdout",
     "output_type": "stream",
     "text": [
      "Test loss: 0.16334760189056396\n",
      "Test accuracy: 0.9971631169319153\n"
     ]
    }
   ],
   "source": [
    "score = model.evaluate(x_test, y_test, verbose=0)\n",
    "print('Test loss:', score[0])\n",
    "print('Test accuracy:', score[1])"
   ]
  },
  {
   "cell_type": "code",
   "execution_count": 252,
   "id": "iV4IRXVoFIlN",
   "metadata": {
    "colab": {
     "base_uri": "https://localhost:8080/"
    },
    "id": "iV4IRXVoFIlN",
    "outputId": "67aad9f5-bd71-48d3-ff52-d7ab1423e1c0"
   },
   "outputs": [
    {
     "data": {
      "text/plain": [
       "array([[ 977,    3],\n",
       "       [   3, 1132]])"
      ]
     },
     "execution_count": 252,
     "metadata": {},
     "output_type": "execute_result"
    }
   ],
   "source": [
    "y_pred = model.predict(x_test)\n",
    "y_pred = np.argmax(y_pred, axis=1)\n",
    "y_test = np.argmax(y_test, axis=1)\n",
    "confusion_matrix(y_test,y_pred)"
   ]
  },
  {
   "cell_type": "markdown",
   "id": "SP3BVSg_DByN",
   "metadata": {
    "id": "SP3BVSg_DByN"
   },
   "source": [
    "#### 1b. When you have single neuron at the output layer"
   ]
  },
  {
   "cell_type": "code",
   "execution_count": 253,
   "id": "606AahYgDcdM",
   "metadata": {
    "id": "606AahYgDcdM"
   },
   "outputs": [],
   "source": [
    "(x_train, y_train), (x_test, y_test) = mnist.load_data()"
   ]
  },
  {
   "cell_type": "code",
   "execution_count": 254,
   "id": "6XL0KPP4DgUF",
   "metadata": {
    "id": "6XL0KPP4DgUF"
   },
   "outputs": [],
   "source": [
    "# First 2 classes 0 and 1\n",
    "\n",
    "train_classes = y_train<2 \n",
    "y_train = y_train[train_classes]\n",
    "x_train = x_train[train_classes]\n",
    "test_classes = y_test<2\n",
    "y_test = y_test[test_classes]\n",
    "x_test = x_test[test_classes]"
   ]
  },
  {
   "cell_type": "code",
   "execution_count": 255,
   "id": "z4_5lwrZDgbu",
   "metadata": {
    "id": "z4_5lwrZDgbu"
   },
   "outputs": [],
   "source": [
    "# Adding 1s to every image to eliminate the 0s\n",
    "for i in range(len(x_train)):\n",
    "  x_train[i] += 1\n",
    "for i in range(len(x_test)):\n",
    "  x_test[i] += 1"
   ]
  },
  {
   "cell_type": "code",
   "execution_count": 256,
   "id": "WoR5ZtkyDgiW",
   "metadata": {
    "id": "WoR5ZtkyDgiW"
   },
   "outputs": [],
   "source": [
    "x_train = x_train.reshape((x_train.shape[0], x_train.shape[1] * x_train.shape[2]))\n",
    "x_test = x_test.reshape((x_test.shape[0], x_test.shape[1] * x_test.shape[2]))"
   ]
  },
  {
   "cell_type": "code",
   "execution_count": 257,
   "id": "JdjzAIM_-jZz",
   "metadata": {
    "id": "JdjzAIM_-jZz"
   },
   "outputs": [],
   "source": [
    "model = models.Sequential()\n",
    "model.add(Dense(512, activation='relu', input_shape=(x_train.shape[1],)))\n",
    "model.add(Dense(1, activation='sigmoid'))"
   ]
  },
  {
   "cell_type": "code",
   "execution_count": 258,
   "id": "89tgE6KtDQCK",
   "metadata": {
    "id": "89tgE6KtDQCK"
   },
   "outputs": [],
   "source": [
    "model.compile(optimizer='rmsprop', loss='binary_crossentropy', metrics=['accuracy'])"
   ]
  },
  {
   "cell_type": "code",
   "execution_count": 259,
   "id": "wUswyqlMDQEt",
   "metadata": {
    "colab": {
     "base_uri": "https://localhost:8080/"
    },
    "id": "wUswyqlMDQEt",
    "outputId": "fe2272a9-0a3f-4d98-88a9-90efe9e2fa6f"
   },
   "outputs": [
    {
     "name": "stdout",
     "output_type": "stream",
     "text": [
      "Epoch 1/10\n",
      "99/99 [==============================] - 2s 12ms/step - loss: 1.5501 - accuracy: 0.9873\n",
      "Epoch 2/10\n",
      "99/99 [==============================] - 1s 13ms/step - loss: 0.1620 - accuracy: 0.9970\n",
      "Epoch 3/10\n",
      "99/99 [==============================] - 2s 15ms/step - loss: 0.1408 - accuracy: 0.9980\n",
      "Epoch 4/10\n",
      "99/99 [==============================] - 1s 13ms/step - loss: 0.0475 - accuracy: 0.9983\n",
      "Epoch 5/10\n",
      "99/99 [==============================] - 1s 12ms/step - loss: 0.1215 - accuracy: 0.9976\n",
      "Epoch 6/10\n",
      "99/99 [==============================] - 1s 13ms/step - loss: 0.0687 - accuracy: 0.9983\n",
      "Epoch 7/10\n",
      "99/99 [==============================] - 1s 12ms/step - loss: 0.0144 - accuracy: 0.9993\n",
      "Epoch 8/10\n",
      "99/99 [==============================] - 1s 12ms/step - loss: 0.1516 - accuracy: 0.9979\n",
      "Epoch 9/10\n",
      "99/99 [==============================] - 1s 12ms/step - loss: 0.0015 - accuracy: 0.9996\n",
      "Epoch 10/10\n",
      "99/99 [==============================] - 1s 11ms/step - loss: 0.0311 - accuracy: 0.9991\n"
     ]
    },
    {
     "data": {
      "text/plain": [
       "<keras.callbacks.History at 0x7facc7937cd0>"
      ]
     },
     "execution_count": 259,
     "metadata": {},
     "output_type": "execute_result"
    }
   ],
   "source": [
    "model.fit(x_train, y_train, batch_size = 128, epochs = 10, verbose=1)"
   ]
  },
  {
   "cell_type": "code",
   "execution_count": 260,
   "id": "EGpPtP_SDQH3",
   "metadata": {
    "colab": {
     "base_uri": "https://localhost:8080/"
    },
    "id": "EGpPtP_SDQH3",
    "outputId": "1750d43d-5279-4c84-f180-e145959ab107"
   },
   "outputs": [
    {
     "name": "stdout",
     "output_type": "stream",
     "text": [
      "Test loss: 0.20656120777130127\n",
      "Test accuracy: 0.9962174892425537\n"
     ]
    }
   ],
   "source": [
    "score = model.evaluate(x_test, y_test, verbose=0)\n",
    "print('Test loss:', score[0])\n",
    "print('Test accuracy:', score[1])"
   ]
  },
  {
   "cell_type": "code",
   "execution_count": 269,
   "id": "xv871aKvUthJ",
   "metadata": {
    "colab": {
     "base_uri": "https://localhost:8080/"
    },
    "id": "xv871aKvUthJ",
    "outputId": "5354cf7e-b189-4142-d64c-9ac1d09a1285"
   },
   "outputs": [
    {
     "data": {
      "text/plain": [
       "array([[ 978,    2],\n",
       "       [   5, 1130]])"
      ]
     },
     "execution_count": 269,
     "metadata": {},
     "output_type": "execute_result"
    }
   ],
   "source": [
    "y_pred = model.predict(x_test).astype(np.uint8)\n",
    "confusion_matrix(y_test,y_pred)"
   ]
  },
  {
   "cell_type": "markdown",
   "id": "gJzz40grWv8K",
   "metadata": {
    "id": "gJzz40grWv8K"
   },
   "source": [
    "Which type of the network performs best and why?:\n",
    "\n",
    "Both networks are giving an accuracy of 99%. The difference between the two is the use of 1D Arrays and 2D Arrays as well as softmax and sigmoid function as test dataset. Furthermore, both networks differ with respect to loss functions. Two output network uses categorical cross entropy loss function and One output network makes use of binary cross entropy."
   ]
  },
  {
   "cell_type": "markdown",
   "id": "SRWXhA5ODcH0",
   "metadata": {
    "id": "SRWXhA5ODcH0"
   },
   "source": [
    "### 2. (15 pts) Develop a perceptron algorithm for each of the following logic gate: AND, OR, and XOR"
   ]
  },
  {
   "cell_type": "code",
   "execution_count": 29,
   "id": "tTNUiA4wDn79",
   "metadata": {
    "colab": {
     "base_uri": "https://localhost:8080/"
    },
    "id": "tTNUiA4wDn79",
    "outputId": "d018fba0-0260-458b-9cf3-fcc6aa9f4409"
   },
   "outputs": [
    {
     "name": "stdout",
     "output_type": "stream",
     "text": [
      "AND(0,0) =  0\n",
      "AND(0,1) =  0\n",
      "AND(1,0) =  0\n",
      "AND(1,1) =  1\n"
     ]
    }
   ],
   "source": [
    "# Perceptron for AND Gate\n",
    "\n",
    "def ANDGate(x):\n",
    "    w = np.array([1, 1])\n",
    "    b = -1.5\n",
    "    y = np.dot(w, x) + b\n",
    "    if y >= 0:\n",
    "      return 1\n",
    "    else:\n",
    "      return 0\n",
    "\n",
    "print(\"AND(0,0) = \",ANDGate([0, 0]))\n",
    "print(\"AND(0,1) = \",ANDGate([0, 1]))\n",
    "print(\"AND(1,0) = \",ANDGate([1, 0]))\n",
    "print(\"AND(1,1) = \",ANDGate([1, 1]))"
   ]
  },
  {
   "cell_type": "code",
   "execution_count": 28,
   "id": "3oA90HJLZSIj",
   "metadata": {
    "colab": {
     "base_uri": "https://localhost:8080/"
    },
    "id": "3oA90HJLZSIj",
    "outputId": "f76a4100-afdd-46d5-e1c5-f8cc381dcac8"
   },
   "outputs": [
    {
     "name": "stdout",
     "output_type": "stream",
     "text": [
      "OR(0,0) =  0\n",
      "OR(0,1) =  1\n",
      "OR(1,0) =  1\n",
      "OR(1,1) =  1\n"
     ]
    }
   ],
   "source": [
    "# Perceptron for OR Gate\n",
    "\n",
    "def ORGate(x):\n",
    "    w = np.array([1, 1])\n",
    "    b = -0.5\n",
    "    y = np.dot(w, x) + b\n",
    "    if y >= 0:\n",
    "      return 1\n",
    "    else:\n",
    "      return 0\n",
    "\n",
    "print(\"OR(0,0) = \",ORGate([0, 0]))\n",
    "print(\"OR(0,1) = \",ORGate([0, 1]))\n",
    "print(\"OR(1,0) = \",ORGate([1, 0]))\n",
    "print(\"OR(1,1) = \",ORGate([1, 1]))"
   ]
  },
  {
   "cell_type": "code",
   "execution_count": 34,
   "id": "0X22RpnkOZUS",
   "metadata": {
    "colab": {
     "base_uri": "https://localhost:8080/"
    },
    "id": "0X22RpnkOZUS",
    "outputId": "fc3d63c3-b855-441d-a08e-5f5ae4b8ff87"
   },
   "outputs": [
    {
     "name": "stdout",
     "output_type": "stream",
     "text": [
      "XOR(0,0) =  0\n",
      "XOR(0,1) =  1\n",
      "XOR(1,0) =  1\n",
      "XOR(1,1) =  0\n"
     ]
    }
   ],
   "source": [
    "# Perceptron for XOR Gate\n",
    "\n",
    "def NOTGate(x):\n",
    "    w = -1\n",
    "    b = 0.5\n",
    "    y = np.dot(w, x) + b\n",
    "    if y >= 0:\n",
    "      return 1\n",
    "    else:\n",
    "      return 0\n",
    "\n",
    "def XORGate(x):\n",
    "    w = [1,1]\n",
    "    final_x = np.array([NOTGate(ANDGate(x)), ORGate(x)])\n",
    "    b = -1.5\n",
    "    y = np.dot(w, final_x) + b\n",
    "    if y >= 0:\n",
    "      return 1\n",
    "    else:\n",
    "      return 0\n",
    "\n",
    "print(\"XOR(0,0) = \",XORGate([0, 0]))\n",
    "print(\"XOR(0,1) = \",XORGate([0, 1]))\n",
    "print(\"XOR(1,0) = \",XORGate([1, 0]))\n",
    "print(\"XOR(1,1) = \",XORGate([1, 1]))"
   ]
  },
  {
   "cell_type": "markdown",
   "id": "6-1Q8XIx0CWq",
   "metadata": {
    "id": "6-1Q8XIx0CWq"
   },
   "source": [
    "### 3. (2 pts) What is the difference between a validation set and a test set? Discuss in brief.\n",
    "The validation set is a set of examples used to tune the hyper-parameters of a classifier In the MLP case, we would use the validation set to find the “optimal” number of hidden units or determine a stopping point for the back-propagation algorithm.\n",
    "\n",
    "The test set is a set of examples used only to assess the performance of a fully-trained classifier. In the MLP case, we would use the test to estimate the error rate after we have chosen the final model. After assessing the final model on the test set, no further tuning is required."
   ]
  },
  {
   "cell_type": "markdown",
   "id": "pSx-Agwi0LOi",
   "metadata": {
    "id": "pSx-Agwi0LOi"
   },
   "source": [
    "### 4. (3 pts) Why should we not prefer the accuracy metric if the dataset is not balanced? Which set (train, validation, or test) of the database should be balanced to use the accuracy metric?\n",
    "\n",
    "In a dataset with a 1:100 class imbalance, each example of the minority class 1 will have a corresponding 100 examples for the majority class 0. The majority class represents “normal” and the minority class represents “abnormal,”. Good performance on the minority class will be preferred over good performance on both classes. A model that predicts the majority class 0 for all examples in the test set will have a classification accuracy of 99 percent, mirroring the distribution of major and minor examples expected in the test set on average. Many machine learning models are designed around the assumption of balanced class distribution, and often learn simple rules like always predict the majority class, causing them to achieve an accuracy of 99 percent, although in practice performing no better than an unskilled majority class classifier.\n",
    "\n",
    "Ideally all 3, training, test and validation sets need to be balanced for accuracy metric but its much easier to use a balanced training set to trust the accuracy of the model. \n"
   ]
  },
  {
   "cell_type": "markdown",
   "id": "JhJEpPCj0Mp9",
   "metadata": {
    "id": "JhJEpPCj0Mp9"
   },
   "source": [
    "### 5. (5 pts) Using the images of the MIST dataset, apply the different data augmentation techniques using your python programming and showcase the generated samples."
   ]
  },
  {
   "cell_type": "code",
   "execution_count": 273,
   "id": "PMpLXiyGQoLX",
   "metadata": {
    "colab": {
     "base_uri": "https://localhost:8080/",
     "height": 268
    },
    "id": "PMpLXiyGQoLX",
    "outputId": "58736434-d717-4e55-969d-e8b2aeaafb36"
   },
   "outputs": [
    {
     "data": {
      "image/png": "[encoded data removed]",
      "text/plain": [
       "<Figure size 432x288 with 9 Axes>"
      ]
     },
     "metadata": {
      "needs_background": "light"
     },
     "output_type": "display_data"
    }
   ],
   "source": [
    "# Random Flipping Data Augmentation\n",
    "\n",
    "(x_train, y_train), (x_test, y_test) = mnist.load_data()\n",
    "x_train = x_train.reshape((x_train.shape[0], 28, 28, 1)).astype('float32')\n",
    "x_test = x_test.reshape((x_test.shape[0], 28, 28, 1)).astype('float32')\n",
    "datagen = ImageDataGenerator(horizontal_flip=True, vertical_flip=True)\n",
    "datagen.fit(x_train)\n",
    "for x, y in datagen.flow(x_train, y_train, batch_size=9):\n",
    "\tfor i in range(0, 9):\n",
    "\t\tplt.subplot(330 + 1 + i)\n",
    "\t\tplt.imshow(x[i].reshape(28, 28))\n",
    "\tplt.show()\n",
    "\tbreak"
   ]
  },
  {
   "cell_type": "code",
   "execution_count": 278,
   "id": "iLn2pA4wuQfU",
   "metadata": {
    "colab": {
     "base_uri": "https://localhost:8080/",
     "height": 268
    },
    "id": "iLn2pA4wuQfU",
    "outputId": "11cf570e-5aa7-4f8d-9cd9-2c9eab629d02"
   },
   "outputs": [
    {
     "data": {
      "image/png": "[encoded data removed]",
      "text/plain": [
       "<Figure size 432x288 with 9 Axes>"
      ]
     },
     "metadata": {
      "needs_background": "light"
     },
     "output_type": "display_data"
    }
   ],
   "source": [
    "# Random Shifting Data Augmentation\n",
    "\n",
    "shift = 0.3\n",
    "datagen1 = ImageDataGenerator(width_shift_range=shift, height_shift_range=shift)\n",
    "datagen1.fit(x_train)\n",
    "for x,y in datagen1.flow(x_train, y_train, batch_size=9):\n",
    "\tfor i in range(0, 9):\n",
    "\t\tplt.subplot(330 + 1 + i)\n",
    "\t\tplt.imshow(x[i].reshape(28, 28))\n",
    "\tplt.show()\n",
    "\tbreak"
   ]
  },
  {
   "cell_type": "code",
   "execution_count": null,
   "id": "740Pzio9wEvh",
   "metadata": {
    "id": "740Pzio9wEvh"
   },
   "outputs": [],
   "source": []
  }
 ],
 "metadata": {
  "colab": {
   "collapsed_sections": [],
   "name": "EAS 595 Assignment-1.ipynb",
   "provenance": []
  },
  "kernelspec": {
   "display_name": "Python 3 (ipykernel)",
   "language": "python",
   "name": "python3"
  },
  "language_info": {
   "codemirror_mode": {
    "name": "ipython",
    "version": 3
   },
   "file_extension": ".py",
   "mimetype": "text/x-python",
   "name": "python",
   "nbconvert_exporter": "python",
   "pygments_lexer": "ipython3",
   "version": "3.7.11"
  }
 },
 "nbformat": 4,
 "nbformat_minor": 5
}
