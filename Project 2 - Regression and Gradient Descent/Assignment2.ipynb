{
  "cells": [
    {
      "cell_type": "code",
      "execution_count": 157,
      "id": "ce0389b3-3f3d-4811-a425-0b265b2fae50",
      "metadata": {
        "id": "ce0389b3-3f3d-4811-a425-0b265b2fae50"
      },
      "outputs": [],
      "source": [
        "import numpy as np\n",
        "import pandas as pd\n",
        "import matplotlib.pyplot as plt\n",
        "from sklearn.model_selection import train_test_split\n",
        "from sklearn.metrics import mean_absolute_error, mean_squared_error, r2_score\n",
        "from numpy.linalg import inv, norm"
      ]
    },
    {
      "cell_type": "code",
      "execution_count": 158,
      "id": "222d4a14-ecf1-4cec-9488-d5d620947e75",
      "metadata": {
        "id": "222d4a14-ecf1-4cec-9488-d5d620947e75"
      },
      "outputs": [],
      "source": [
        "# Dataset\n",
        "\n",
        "housing = pd.read_csv('housing.csv')\n",
        "housing = housing.dropna()"
      ]
    },
    {
      "cell_type": "code",
      "execution_count": 159,
      "id": "8768dc8a-d994-484e-a4d8-d40877a1681a",
      "metadata": {
        "id": "8768dc8a-d994-484e-a4d8-d40877a1681a"
      },
      "outputs": [],
      "source": [
        "# Linear Regression Algorithms\n",
        "\n",
        "def NormalizeMatrix(x_train):\n",
        "    mean = x_train.mean(0)\n",
        "    stddev = x_train.std(0)\n",
        "    normal = (x_train - mean) / stddev\n",
        "    return normal, mean, stddev\n",
        "\n",
        "def ClosedForm(x_train, y_train):\n",
        "    inverse = inv(x_train.T.dot(x_train))\n",
        "    weight = inverse.dot(x_train.T).dot(y_train)\n",
        "    return weight\n",
        "\n",
        "def Error(x_train, y_train, weight):\n",
        "    A = y_train - x_train.dot(weight)\n",
        "    return A.T.dot(A)\n",
        "\n",
        "def Bias(x_train):\n",
        "    bias = np.ones(x_train.shape[0]).reshape(x_train.shape[0], 1)\n",
        "    result = np.concatenate((bias, x_train), 1)\n",
        "    return result\n",
        "\n",
        "def GradientDescent(x_train, y_train, alpha=0.001, epsilon=0.0001):\n",
        "    w0 = np.random.rand(x_train.shape[1]).reshape(x_train.shape[1], 1)\n",
        "    w1 = np.zeros((x_train.shape[1], 1))\n",
        "    i = 0\n",
        "    while norm(w1 - w0) > epsilon:\n",
        "        w0 = w1\n",
        "        RSS = Error(x_train, y_train, w0)\n",
        "        gRSS = (x_train.T.dot(x_train).dot(w0) - x_train.T.dot(y_train))   \n",
        "        w1 = w0 - alpha * gRSS\n",
        "        i += 1\n",
        "    return w1"
      ]
    },
    {
      "cell_type": "markdown",
      "id": "963bd862-ea19-46ad-90c7-d24900b3654e",
      "metadata": {
        "id": "963bd862-ea19-46ad-90c7-d24900b3654e"
      },
      "source": [
        "## Closed Form"
      ]
    },
    {
      "cell_type": "markdown",
      "id": "9bc4e785-df25-428e-87a3-b0a1d1838fce",
      "metadata": {
        "tags": [],
        "id": "9bc4e785-df25-428e-87a3-b0a1d1838fce"
      },
      "source": [
        "### Simple Linear regression using 1 feature"
      ]
    },
    {
      "cell_type": "code",
      "execution_count": 160,
      "id": "382a87c5-26e1-41b9-a373-19b7c7f50e8d",
      "metadata": {
        "id": "382a87c5-26e1-41b9-a373-19b7c7f50e8d"
      },
      "outputs": [],
      "source": [
        "x_train =  housing[['total_rooms']]\n",
        "y_train =  housing['housing_median_age']\n",
        "x_test = x_train.values\n",
        "y_test = y_train.values.reshape(x_test.shape[0], 1)\n",
        "x_test, mean, stddev = NormalizeMatrix(x_test)\n",
        "x_test = Bias(x_test)\n",
        "Closed = ClosedForm(x_test, y_test)"
      ]
    },
    {
      "cell_type": "code",
      "execution_count": 161,
      "id": "a2c771e4-541c-43ca-a0ea-8ebef2f22b99",
      "metadata": {
        "colab": {
          "base_uri": "https://localhost:8080/"
        },
        "id": "a2c771e4-541c-43ca-a0ea-8ebef2f22b99",
        "outputId": "a0f3f508-e53f-4d14-b2b5-8df5fa7fc349"
      },
      "outputs": [
        {
          "output_type": "stream",
          "name": "stdout",
          "text": [
            "Theta  0  =  [28.63309353]\n",
            "Theta  1  =  [-4.54085018]\n"
          ]
        }
      ],
      "source": [
        "#Closed Form Solution\n",
        "for i in range(len(Closed)):\n",
        "    print(\"Theta \",i,\" = \",Closed[i])"
      ]
    },
    {
      "cell_type": "markdown",
      "id": "fabab967-ab67-4965-887f-5517a11ad764",
      "metadata": {
        "id": "fabab967-ab67-4965-887f-5517a11ad764"
      },
      "source": [
        "### Multiple Linear Regression using 2 – 4 features of your choice from the dataset"
      ]
    },
    {
      "cell_type": "code",
      "execution_count": 162,
      "id": "d1eff1f9-4c86-497e-b1e0-b95a7ba9045a",
      "metadata": {
        "id": "d1eff1f9-4c86-497e-b1e0-b95a7ba9045a"
      },
      "outputs": [],
      "source": [
        "x_train =  housing[['total_rooms' , 'total_bedrooms' , 'population' ,'households']]\n",
        "y_train =  housing['housing_median_age']\n",
        "x_test = x_train.values\n",
        "y_test = y_train.values.reshape(x_test.shape[0], 1)\n",
        "x_test, mean, stddev = NormalizeMatrix(x_test)\n",
        "x_test = Bias(x_test)\n",
        "Closed = ClosedForm(x_test, y_test)"
      ]
    },
    {
      "cell_type": "code",
      "execution_count": 163,
      "id": "48ebcedf-f14c-4fc7-ae17-3a18187cb536",
      "metadata": {
        "tags": [],
        "colab": {
          "base_uri": "https://localhost:8080/"
        },
        "id": "48ebcedf-f14c-4fc7-ae17-3a18187cb536",
        "outputId": "7f754bb9-bbca-433f-89d4-a8a861c8e3cf"
      },
      "outputs": [
        {
          "output_type": "stream",
          "name": "stdout",
          "text": [
            "Theta  0  =  [28.63309353]\n",
            "Theta  1  =  [-5.89148702]\n",
            "Theta  2  =  [-3.32168566]\n",
            "Theta  3  =  [-0.92471942]\n",
            "Theta  4  =  [5.69516642]\n"
          ]
        }
      ],
      "source": [
        "#Closed Form Solution\n",
        "for i in range(len(Closed)):\n",
        "    print(\"Theta \",i,\" = \",Closed[i])"
      ]
    },
    {
      "cell_type": "markdown",
      "id": "21057bd2-9917-4dd6-89a6-e46961015344",
      "metadata": {
        "id": "21057bd2-9917-4dd6-89a6-e46961015344"
      },
      "source": [
        "### Report evaluation metrics such as Rsquared error, Mean square error, Mean absolute error."
      ]
    },
    {
      "cell_type": "code",
      "source": [
        "y_pred = list()\n",
        "for i in range(0,len(x_test)):\n",
        "  y = Closed[0]\n",
        "  for j in range(1,len(Closed)):\n",
        "    y += x_test[i][j-1]*Closed[j]\n",
        "  y_pred.append(y)"
      ],
      "metadata": {
        "id": "SG2xeoiW6GPv"
      },
      "id": "SG2xeoiW6GPv",
      "execution_count": 164,
      "outputs": []
    },
    {
      "cell_type": "code",
      "source": [
        "# R Squared Error\n",
        "print(r2_score(y_test, y_pred))"
      ],
      "metadata": {
        "colab": {
          "base_uri": "https://localhost:8080/"
        },
        "id": "uMBgWxrC6M43",
        "outputId": "b212f6a9-e6ba-416b-c15b-5cfbddb3b084"
      },
      "id": "uMBgWxrC6M43",
      "execution_count": 165,
      "outputs": [
        {
          "output_type": "stream",
          "name": "stdout",
          "text": [
            "-91402775.44673042\n"
          ]
        }
      ]
    },
    {
      "cell_type": "code",
      "source": [
        "# Mean Absolute Error\n",
        "print(mean_absolute_error(y_test, y_pred))"
      ],
      "metadata": {
        "colab": {
          "base_uri": "https://localhost:8080/"
        },
        "id": "3U968Qks6NF5",
        "outputId": "263d005e-37d8-4e72-a12d-e7166af7e369"
      },
      "id": "3U968Qks6NF5",
      "execution_count": 166,
      "outputs": [
        {
          "output_type": "stream",
          "name": "stdout",
          "text": [
            "120380.75437799614\n"
          ]
        }
      ]
    },
    {
      "cell_type": "code",
      "source": [
        "# Mean Squared Error\n",
        "print(mean_squared_error(y_test, y_pred))"
      ],
      "metadata": {
        "colab": {
          "base_uri": "https://localhost:8080/"
        },
        "id": "WlnZM1-h6NNw",
        "outputId": "6f93a7dc-1281-49a9-cfcf-0e824f232621"
      },
      "id": "WlnZM1-h6NNw",
      "execution_count": 167,
      "outputs": [
        {
          "output_type": "stream",
          "name": "stdout",
          "text": [
            "14491526183.161247\n"
          ]
        }
      ]
    },
    {
      "cell_type": "markdown",
      "id": "1afd3a50-6540-4ec8-8970-3b60556d5456",
      "metadata": {
        "id": "1afd3a50-6540-4ec8-8970-3b60556d5456"
      },
      "source": [
        "## Stochastic Gradient Descent"
      ]
    },
    {
      "cell_type": "markdown",
      "id": "2f344ca1-71a6-4567-b296-9d7672ae693c",
      "metadata": {
        "id": "2f344ca1-71a6-4567-b296-9d7672ae693c"
      },
      "source": [
        "### Simple Linear regression using 1 feature"
      ]
    },
    {
      "cell_type": "code",
      "execution_count": 168,
      "id": "35645e94-f0bd-4dbf-a72c-d0c6992dcebe",
      "metadata": {
        "id": "35645e94-f0bd-4dbf-a72c-d0c6992dcebe"
      },
      "outputs": [],
      "source": [
        "x_train =  housing[['total_rooms']]\n",
        "y_train =  housing['housing_median_age']\n",
        "x_test = x_train.values\n",
        "y_test = y_train.values.reshape(x_test.shape[0], 1)\n",
        "x_test, mean, stddev = NormalizeMatrix(x_test)\n",
        "x_test = Bias(x_test)\n",
        "Gradient = GradientDescent(x_test, y_test, alpha=0.00001)"
      ]
    },
    {
      "cell_type": "code",
      "execution_count": 169,
      "id": "cbc3d814-ea3c-4c4a-a1f7-60dd72e603ac",
      "metadata": {
        "colab": {
          "base_uri": "https://localhost:8080/"
        },
        "id": "cbc3d814-ea3c-4c4a-a1f7-60dd72e603ac",
        "outputId": "3e357123-bd58-4df8-c12a-3c5e575e06a8"
      },
      "outputs": [
        {
          "output_type": "stream",
          "name": "stdout",
          "text": [
            "Theta  0  =  [28.63278198]\n",
            "Theta  1  =  [-4.54080078]\n"
          ]
        }
      ],
      "source": [
        "#Stochastic Gradient Solution\n",
        "for i in range(len(Gradient)):\n",
        "    print(\"Theta \",i,\" = \",Gradient[i])"
      ]
    },
    {
      "cell_type": "markdown",
      "id": "289da6ec-4055-47e6-adbe-17af1d60c9cf",
      "metadata": {
        "id": "289da6ec-4055-47e6-adbe-17af1d60c9cf"
      },
      "source": [
        "### Multiple Linear Regression using 2 – 4 features of your choice from the dataset"
      ]
    },
    {
      "cell_type": "code",
      "execution_count": 170,
      "id": "5499604c-4abb-4cbe-86fe-39832a19f5d9",
      "metadata": {
        "id": "5499604c-4abb-4cbe-86fe-39832a19f5d9"
      },
      "outputs": [],
      "source": [
        "x_train =  housing[['total_rooms' , 'total_bedrooms' , 'population' ,'households']]\n",
        "y_train =  housing['housing_median_age']\n",
        "x_test = x_train.values\n",
        "y_test = y_train.values.reshape(x_test.shape[0], 1)\n",
        "x_test, mean, stddev = NormalizeMatrix(x_test)\n",
        "x_test = Bias(x_test)\n",
        "Gradient = GradientDescent(x_test, y_test, alpha=0.00001)"
      ]
    },
    {
      "cell_type": "code",
      "execution_count": 171,
      "id": "1a6f0c9c-3238-4eb4-949b-95d7d27969b1",
      "metadata": {
        "colab": {
          "base_uri": "https://localhost:8080/"
        },
        "id": "1a6f0c9c-3238-4eb4-949b-95d7d27969b1",
        "outputId": "2b14afb2-4e3a-4b66-d042-183ea644a783"
      },
      "outputs": [
        {
          "output_type": "stream",
          "name": "stdout",
          "text": [
            "Theta  0  =  [28.63309353]\n",
            "Theta  1  =  [-5.89408306]\n",
            "Theta  2  =  [-3.30197723]\n",
            "Theta  3  =  [-0.92101057]\n",
            "Theta  4  =  [5.67453129]\n"
          ]
        }
      ],
      "source": [
        "#Stochastic Gradient Solution\n",
        "for i in range(len(Gradient)):\n",
        "    print(\"Theta \",i,\" = \",Gradient[i])"
      ]
    },
    {
      "cell_type": "markdown",
      "id": "23d82038-511c-4aed-b07c-92a18a222b20",
      "metadata": {
        "id": "23d82038-511c-4aed-b07c-92a18a222b20"
      },
      "source": [
        "### Report evaluation metrics such as Rsquared error, Mean square error, Mean absolute error."
      ]
    },
    {
      "cell_type": "code",
      "source": [
        "y_pred = list()\n",
        "for i in range(0,len(x_test)):\n",
        "  y = Gradient[0]\n",
        "  for j in range(1,len(Gradient)):\n",
        "    y += x_test[i][j-1]*Gradient[j]\n",
        "  y_pred.append(y)"
      ],
      "metadata": {
        "id": "uDx_Jb9x3BJi"
      },
      "id": "uDx_Jb9x3BJi",
      "execution_count": 172,
      "outputs": []
    },
    {
      "cell_type": "code",
      "source": [
        "# R Squared Error\n",
        "print(r2_score(y_test, y_pred))"
      ],
      "metadata": {
        "colab": {
          "base_uri": "https://localhost:8080/"
        },
        "id": "UMk2O4BT54ED",
        "outputId": "72815a0f-f0a0-49c5-84c8-1a56248a57fb"
      },
      "id": "UMk2O4BT54ED",
      "execution_count": 173,
      "outputs": [
        {
          "output_type": "stream",
          "name": "stdout",
          "text": [
            "-91483344.94908275\n"
          ]
        }
      ]
    },
    {
      "cell_type": "code",
      "source": [
        "# Mean Absolute Error\n",
        "print(mean_absolute_error(y_test, y_pred))"
      ],
      "metadata": {
        "colab": {
          "base_uri": "https://localhost:8080/"
        },
        "id": "uEllLln159PX",
        "outputId": "7981312c-9785-43b9-9aac-4f828d0efe91"
      },
      "id": "uEllLln159PX",
      "execution_count": 174,
      "outputs": [
        {
          "output_type": "stream",
          "name": "stdout",
          "text": [
            "120433.7991624702\n"
          ]
        }
      ]
    },
    {
      "cell_type": "code",
      "source": [
        "# Mean Squared Error\n",
        "print(mean_squared_error(y_test, y_pred))"
      ],
      "metadata": {
        "colab": {
          "base_uri": "https://localhost:8080/"
        },
        "id": "xbo-0BIy6AyO",
        "outputId": "72e73c26-0661-4cf5-9c56-8e6c2399f0a7"
      },
      "id": "xbo-0BIy6AyO",
      "execution_count": 175,
      "outputs": [
        {
          "output_type": "stream",
          "name": "stdout",
          "text": [
            "14504300139.251995\n"
          ]
        }
      ]
    },
    {
      "cell_type": "markdown",
      "id": "5ad66fcc-f0a5-44cf-9a29-3d94614535b4",
      "metadata": {
        "id": "5ad66fcc-f0a5-44cf-9a29-3d94614535b4"
      },
      "source": [
        "## Linear Regression Using Neural Network"
      ]
    },
    {
      "cell_type": "code",
      "execution_count": 186,
      "id": "7ccd2e69-8107-48db-9e2c-7d47747f012c",
      "metadata": {
        "id": "7ccd2e69-8107-48db-9e2c-7d47747f012c"
      },
      "outputs": [],
      "source": [
        "import keras\n",
        "from keras import models\n",
        "from keras.layers import Dense"
      ]
    },
    {
      "cell_type": "code",
      "source": [
        "x_train =  housing[['total_rooms' , 'total_bedrooms' , 'population' ,'households']]\n",
        "y_train =  housing['housing_median_age']\n",
        "x_test = x_train.values\n",
        "y_test = y_train.values.reshape(x_test.shape[0], 1)"
      ],
      "metadata": {
        "id": "1Vo5VWliyD5v"
      },
      "id": "1Vo5VWliyD5v",
      "execution_count": 187,
      "outputs": []
    },
    {
      "cell_type": "code",
      "source": [
        "model = models.Sequential()\n",
        "model.add(Dense(128, activation='relu'))\n",
        "model.add(Dense(256, activation='relu'))\n",
        "model.add(Dense(1, activation='softmax'))"
      ],
      "metadata": {
        "id": "c0T7TLy5whff"
      },
      "id": "c0T7TLy5whff",
      "execution_count": 188,
      "outputs": []
    },
    {
      "cell_type": "code",
      "source": [
        "model.compile(optimizer='sgd', loss='mean_absolute_error', metrics=['accuracy'])"
      ],
      "metadata": {
        "id": "14uzHKIHwweW"
      },
      "id": "14uzHKIHwweW",
      "execution_count": 189,
      "outputs": []
    },
    {
      "cell_type": "code",
      "source": [
        "model.fit(x_train, y_train, batch_size = 128, epochs = 10, verbose=1)"
      ],
      "metadata": {
        "colab": {
          "base_uri": "https://localhost:8080/"
        },
        "id": "7gz8HfXYxbx1",
        "outputId": "9c460697-5869-41a9-bf07-413a8c454bd6"
      },
      "id": "7gz8HfXYxbx1",
      "execution_count": 190,
      "outputs": [
        {
          "output_type": "stream",
          "name": "stdout",
          "text": [
            "Epoch 1/10\n",
            "160/160 [==============================] - 1s 5ms/step - loss: 27.6331 - accuracy: 1.9576e-04\n",
            "Epoch 2/10\n",
            "160/160 [==============================] - 1s 4ms/step - loss: 27.6331 - accuracy: 1.9576e-04\n",
            "Epoch 3/10\n",
            "160/160 [==============================] - 1s 5ms/step - loss: 27.6331 - accuracy: 1.9576e-04\n",
            "Epoch 4/10\n",
            "160/160 [==============================] - 1s 4ms/step - loss: 27.6331 - accuracy: 1.9576e-04\n",
            "Epoch 5/10\n",
            "160/160 [==============================] - 1s 5ms/step - loss: 27.6331 - accuracy: 1.9576e-04\n",
            "Epoch 6/10\n",
            "160/160 [==============================] - 1s 4ms/step - loss: 27.6331 - accuracy: 1.9576e-04\n",
            "Epoch 7/10\n",
            "160/160 [==============================] - 1s 4ms/step - loss: 27.6331 - accuracy: 1.9576e-04\n",
            "Epoch 8/10\n",
            "160/160 [==============================] - 1s 4ms/step - loss: 27.6331 - accuracy: 1.9576e-04\n",
            "Epoch 9/10\n",
            "160/160 [==============================] - 1s 4ms/step - loss: 27.6331 - accuracy: 1.9576e-04\n",
            "Epoch 10/10\n",
            "160/160 [==============================] - 1s 5ms/step - loss: 27.6331 - accuracy: 1.9576e-04\n"
          ]
        },
        {
          "output_type": "execute_result",
          "data": {
            "text/plain": [
              "<keras.callbacks.History at 0x7f472a19bf50>"
            ]
          },
          "metadata": {},
          "execution_count": 190
        }
      ]
    },
    {
      "cell_type": "markdown",
      "source": [
        "### Report evaluation metrics such as Rsquared error, Mean square error, Mean absolute error."
      ],
      "metadata": {
        "id": "NSrEPo9y1_7n"
      },
      "id": "NSrEPo9y1_7n"
    },
    {
      "cell_type": "code",
      "source": [
        "y_pred = model.predict(x_test)"
      ],
      "metadata": {
        "id": "MWIIiZLgxfjS"
      },
      "id": "MWIIiZLgxfjS",
      "execution_count": 191,
      "outputs": []
    },
    {
      "cell_type": "code",
      "source": [
        "# R Squared Error\n",
        "print(r2_score(y_test, y_pred))"
      ],
      "metadata": {
        "colab": {
          "base_uri": "https://localhost:8080/"
        },
        "id": "7668UQhB2fSg",
        "outputId": "70d7ed29-fa31-4591-8e0f-90f4a4638449"
      },
      "id": "7668UQhB2fSg",
      "execution_count": 192,
      "outputs": [
        {
          "output_type": "stream",
          "name": "stdout",
          "text": [
            "-4.816197367977022\n"
          ]
        }
      ]
    },
    {
      "cell_type": "code",
      "source": [
        "# Mean Absolute Error\n",
        "print(mean_absolute_error(y_test, y_pred))"
      ],
      "metadata": {
        "colab": {
          "base_uri": "https://localhost:8080/"
        },
        "id": "GFWzGRhV2And",
        "outputId": "c2fb87a2-325f-41f7-f352-f8e888039b88"
      },
      "id": "GFWzGRhV2And",
      "execution_count": 193,
      "outputs": [
        {
          "output_type": "stream",
          "name": "stdout",
          "text": [
            "27.633093525179856\n"
          ]
        }
      ]
    },
    {
      "cell_type": "code",
      "source": [
        "# Mean Squared Error\n",
        "print(mean_squared_error(y_test, y_pred))"
      ],
      "metadata": {
        "colab": {
          "base_uri": "https://localhost:8080/"
        },
        "id": "ydFRBv_M2Su-",
        "outputId": "42b62443-d97b-407b-dd2c-da746bbfed83"
      },
      "id": "ydFRBv_M2Su-",
      "execution_count": 194,
      "outputs": [
        {
          "output_type": "stream",
          "name": "stdout",
          "text": [
            "922.133656340234\n"
          ]
        }
      ]
    },
    {
      "cell_type": "code",
      "source": [
        ""
      ],
      "metadata": {
        "id": "dufSCjCu6m1A"
      },
      "id": "dufSCjCu6m1A",
      "execution_count": null,
      "outputs": []
    }
  ],
  "metadata": {
    "kernelspec": {
      "display_name": "Python 3 (ipykernel)",
      "language": "python",
      "name": "python3"
    },
    "language_info": {
      "codemirror_mode": {
        "name": "ipython",
        "version": 3
      },
      "file_extension": ".py",
      "mimetype": "text/x-python",
      "name": "python",
      "nbconvert_exporter": "python",
      "pygments_lexer": "ipython3",
      "version": "3.7.11"
    },
    "colab": {
      "name": "Assignment2.ipynb",
      "provenance": [],
      "collapsed_sections": []
    }
  },
  "nbformat": 4,
  "nbformat_minor": 5
}