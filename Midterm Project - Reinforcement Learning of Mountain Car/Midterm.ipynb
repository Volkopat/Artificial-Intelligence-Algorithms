{
 "cells": [
  {
   "cell_type": "code",
   "execution_count": 1,
   "id": "c53c6fe3",
   "metadata": {
    "id": "c53c6fe3"
   },
   "outputs": [],
   "source": [
    "import numpy as np\n",
    "import gym \n",
    "import matplotlib.pyplot as plt\n",
    "from gym import spaces\n",
    "import random\n",
    "import time\n",
    "from IPython.display import clear_output"
   ]
  },
  {
   "cell_type": "code",
   "execution_count": 2,
   "id": "288c6273",
   "metadata": {
    "id": "288c6273"
   },
   "outputs": [],
   "source": [
    "import tensorflow as tf\n",
    "from tensorflow import keras\n",
    "from tensorflow.keras.models import Sequential\n",
    "from tensorflow.keras.layers import Dense, Activation\n",
    "from tensorflow.keras.optimizers import Adam\n",
    "from tensorflow.keras.metrics import mean_squared_error"
   ]
  },
  {
   "cell_type": "code",
   "execution_count": 3,
   "id": "08c86f90",
   "metadata": {
    "id": "08c86f90"
   },
   "outputs": [],
   "source": [
    "grid = np.zeros((5,5))\n",
    "pos1 = (0,0)\n",
    "pos2 = (4,4)\n",
    "grid[tuple(pos1)] = 1.0\n",
    "grid[tuple(pos2)] = 0.5"
   ]
  },
  {
   "cell_type": "code",
   "execution_count": 4,
   "id": "d647923d",
   "metadata": {
    "id": "d647923d"
   },
   "outputs": [],
   "source": [
    "class GridEnvironment(gym.Env):\n",
    "    def __init__(self):\n",
    "        self.observation_space=spaces.Discrete(25)\n",
    "        self.action_space = spaces.Discrete(4)\n",
    "        self.max_timesteps = 100\n",
    "\n",
    "    def reset(self):\n",
    "        self.timestep = 0\n",
    "        self.initial = [0,0]\n",
    "        self.goal = [4,4]\n",
    "        self.state = np.zeros((5,5))\n",
    "        self.state[tuple(self.initial)]=1\n",
    "        self.state[tuple((1,1))]= 0.6\n",
    "        self.state[tuple((2,2))]= 0.6\n",
    "        self.state[tuple((3,3))]= 0.6\n",
    "        self.state[tuple((4,4))]= 0.6\n",
    "        self.state[tuple((0,4))]= 0.8\n",
    "        self.state[tuple((4,0))]= 0.8\n",
    "        self.state[tuple(self.goal)]=0.5\n",
    "\n",
    "        observation =self.state.flatten()\n",
    "\n",
    "        return observation\n",
    "\n",
    "    def step(self,action):\n",
    "        self.state = np.random.choice(self.observation_space.n)\n",
    "        if action == 0:\n",
    "            self.initial[0] +=1\n",
    "        if action == 1:\n",
    "            self.initial[0] -=1\n",
    "        if action == 2:\n",
    "            self.initial[1] +=1\n",
    "        if action == 3:\n",
    "            self.initial[1] -=1\n",
    "        self.initial = np.clip(self.initial, 0 ,3)\n",
    "        self.state = np.zeros((5,5))\n",
    "        self.state[tuple(self.initial)]= 1.0\n",
    "        self.state[tuple((1,1))]= 0.6\n",
    "        self.state[tuple((2,2))]= 0.6\n",
    "        self.state[tuple((3,3))]= 0.6\n",
    "        self.state[tuple((4,4))]= 0.6\n",
    "        self.state[tuple((0,4))]= 0.8\n",
    "        self.state[tuple((4,0))]= 0.8\n",
    "        self.state[tuple(self.goal)]= 0.5\n",
    "        \n",
    "        observation = self.state.flatten()\n",
    "\n",
    "        reward = -1\n",
    "        if(self.initial == self.goal).all():\n",
    "            reward = 30\n",
    "        if(self.initial == (1,1)).all():\n",
    "            reward = 3\n",
    "        if(self.initial == (2,2)).all():\n",
    "            reward = 5\n",
    "        if(self.initial == (3,3)).all():\n",
    "            reward = 11\n",
    "        if(self.initial == (4,4)).all():\n",
    "            reward = 7\n",
    "        if(self.initial == (0,4)).all():\n",
    "            reward = -3\n",
    "        if(self.initial == (4,0)).all():\n",
    "            reward = -10\n",
    "\n",
    "        self.timestep +=1 \n",
    "        done = True if (self.timestep >= self.max_timesteps or (self.initial == self.goal).all()) else False \n",
    "\n",
    "        info ={}\n",
    "\n",
    "        return observation, reward, done, info\n",
    "\n",
    "    def render(self):\n",
    "        plt.imshow(self.state)"
   ]
  },
  {
   "cell_type": "code",
   "execution_count": 5,
   "id": "08e84057",
   "metadata": {
    "id": "08e84057"
   },
   "outputs": [],
   "source": [
    "class Agent:\n",
    "    def __init__(self, state_space, action_space):\n",
    "        self.action_space = action_space\n",
    "        self.learning_rate = 0.5\n",
    "        self.discount_factor = 0.9\n",
    "        self.epsilon = 0.09\n",
    "        self.min_epsilon = 0.001\n",
    "        self.decay = 0.8\n",
    "        self.batch_size = 128\n",
    "        self.buffer= list()\n",
    "        self.max_memory = 5000\n",
    "        self.epsilon_arr = []\n",
    "        self.epsilon_arr.append(self.epsilon)\n",
    "        self.model = Sequential([Dense(units = 50,input_dim = state_space, activation = 'relu'),\n",
    "                                 Dense(units = 256, activation = 'relu'),\n",
    "                                 Dense(units = 128, activation = 'relu'),\n",
    "                                 Dense(units = 512, activation = 'relu'),\n",
    "                                 Dense(units = 128, activation = 'relu'),\n",
    "                                 Dense(units = action_space, activation = 'sigmoid')])\n",
    "        self.model.compile(loss=\"binary_crossentropy\", optimizer = Adam(learning_rate = self.learning_rate), metrics=['accuracy'])\n",
    "        \n",
    "        \n",
    "    def greedy(self, current_state):\n",
    "        if np.random.random() < self.epsilon:\n",
    "            return np.argmax(self.model.predict(current_state)[0])\n",
    "        else:\n",
    "            return np.random.randint(4)\n",
    "\n",
    "    def epsilon_decay(self):\n",
    "        self.epsilon = max(self.min_epsilon,(self.epsilon * self.decay))\n",
    "        return self.epsilon\n",
    "    \n",
    "    def replay(self, current_state, action, reward, next_state, done):\n",
    "        self.buffer.append({\n",
    "            \"current_state\":current_state,\n",
    "            \"action\":action,\n",
    "            \"reward\":reward,\n",
    "            \"next_state\":next_state,\n",
    "            \"done\" :done\n",
    "        })\n",
    "        if len(self.buffer) > self.max_memory:\n",
    "            self.buffer.pop(0)\n",
    "    \n",
    "\n",
    "    def train(self):\n",
    "        np.random.shuffle(self.buffer)\n",
    "        sample = self.buffer[0:self.batch_size]\n",
    "\n",
    "        for e in sample:\n",
    "            current_state = self.model.predict(e[\"current_state\"])\n",
    "            reward = e[\"reward\"]\n",
    "            if not e[\"done\"]:\n",
    "                reward = reward + self.discount_factor*np.max(self.model.predict(e[\"next_state\"])[0])\n",
    "            current_state[0][e[\"action\"]] = reward\n",
    "            self.model.fit(e[\"current_state\"], current_state, verbose=0)"
   ]
  },
  {
   "cell_type": "code",
   "execution_count": null,
   "id": "6385fba6",
   "metadata": {
    "colab": {
     "base_uri": "https://localhost:8080/",
     "height": 316
    },
    "id": "6385fba6",
    "outputId": "7e0fe209-bec7-401d-f567-4a06a639581a"
   },
   "outputs": [
    {
     "data": {
      "image/png": "[encoded data removed]",
      "text/plain": [
       "<Figure size 432x288 with 1 Axes>"
      ]
     },
     "metadata": {
      "needs_background": "light"
     },
     "output_type": "display_data"
    },
    {
     "name": "stdout",
     "output_type": "stream",
     "text": [
      "1\n"
     ]
    }
   ],
   "source": [
    "env = GridEnvironment()\n",
    "state_space = env.observation_space.n\n",
    "action_space = env.action_space.n\n",
    "episodes = 50\n",
    "episode_count = 0;\n",
    "agent = Agent(state_space, action_space)\n",
    "\n",
    "total_rewards = 0\n",
    "final_reward = 0\n",
    "count = 0\n",
    "\n",
    "epsilon_arr = list()\n",
    "performance = list()\n",
    "done = False\n",
    "reward = 0 \n",
    "for e in range(episodes):    \n",
    "    current_state = env.reset()\n",
    "    current_state = np.array([current_state])\n",
    "    \n",
    "    while (done == False or env.timestep < env.max_timesteps):\n",
    "        clear_output(wait=True)\n",
    "        env.render()\n",
    "        plt.show()\n",
    "        print(episode_count)\n",
    "#         time.sleep(0.001)\n",
    "        \n",
    "        action = agent.greedy(current_state)\n",
    "        next_state, reward, done, _ = env.step(action)\n",
    "        next_state = np.array([next_state])\n",
    "    \n",
    "        agent.replay(current_state, action, reward, next_state, done)\n",
    "        \n",
    "        if done:\n",
    "            agent.epsilon_decay()\n",
    "            epsilon_arr.append(agent.epsilon_decay())\n",
    "            break\n",
    "        current_state = next_state\n",
    "        total_rewards += reward\n",
    "        count+=1\n",
    "        \n",
    "    if count >= agent.batch_size:\n",
    "        agent.train()\n",
    "    episode_count += 1\n",
    "    final_reward += total_rewards\n",
    "    performance.append(total_rewards)\n",
    "\n",
    "print(\"Total Rewards - \", final_reward)\n",
    "print(\"Performance - Total Rewards/Number of Episodes\",(final_reward/episodes))"
   ]
  },
  {
   "cell_type": "code",
   "execution_count": 48,
   "id": "SxicykLJr9ig",
   "metadata": {
    "colab": {
     "base_uri": "https://localhost:8080/",
     "height": 281
    },
    "id": "SxicykLJr9ig",
    "outputId": "87e02c42-1b0a-4d0a-a708-f079b80ba4fb"
   },
   "outputs": [
    {
     "data": {
      "image/png": "[encoded data removed]",
      "text/plain": [
       "<Figure size 432x288 with 1 Axes>"
      ]
     },
     "metadata": {
      "needs_background": "light"
     },
     "output_type": "display_data"
    }
   ],
   "source": [
    "plt.plot(performance) \n",
    "plt.title('Improvement')\n",
    "plt.show()"
   ]
  },
  {
   "cell_type": "markdown",
   "id": "0d2f0c51",
   "metadata": {
    "id": "0d2f0c51"
   },
   "source": [
    "# MountainCar-v0"
   ]
  },
  {
   "cell_type": "code",
   "execution_count": 8,
   "id": "eaa09c70",
   "metadata": {
    "id": "eaa09c70"
   },
   "outputs": [],
   "source": [
    "class Agent:\n",
    "    def __init__(self, state_space, action_space):\n",
    "        self.action_space = action_space\n",
    "        self.learning_rate = 0.5\n",
    "        self.discount_factor = 0.9\n",
    "        self.epsilon = 0.09\n",
    "        self.min_epsilon = 0.001\n",
    "        self.decay = 0.8\n",
    "        self.batch_size = 128\n",
    "        self.buffer= list()\n",
    "        self.max_memory = 5000\n",
    "        self.epsilon_arr = []\n",
    "        self.epsilon_arr.append(self.epsilon)\n",
    "        self.model = Sequential([Dense(units=18,input_dim=state_space, activation = 'relu'),\n",
    "                                 Dense(units=18,activation = 'relu'),\n",
    "                                 Dense(units=action_space, activation = 'linear')])\n",
    "        self.model.compile(loss=\"mse\", optimizer = Adam(lr=self.learning_rate))\n",
    "        \n",
    "        \n",
    "    def greedy(self, current_state):\n",
    "        if np.random.random() < self.epsilon:\n",
    "            return np.argmax(self.model.predict(current_state)[0])\n",
    "        else:\n",
    "            return np.random.randint(2)\n",
    "\n",
    "    def epsilon_decay(self):\n",
    "        self.epsilon = max(self.min_epsilon,(self.epsilon * self.decay))\n",
    "        return self.epsilon\n",
    "    \n",
    "    def replay(self, current_state, action, reward, next_state, done):\n",
    "        self.buffer.append({\n",
    "            \"current_state\":current_state,\n",
    "            \"action\":action,\n",
    "            \"reward\":reward,\n",
    "            \"next_state\":next_state,\n",
    "            \"done\" :done\n",
    "        })\n",
    "        if len(self.buffer) > self.max_memory:\n",
    "            self.buffer.pop(0)\n",
    "    \n",
    "\n",
    "    def train(self):\n",
    "        np.random.shuffle(self.buffer)\n",
    "        sample = self.buffer[0:self.batch_size]\n",
    "\n",
    "        for e in sample:\n",
    "            current_state = self.model.predict(e[\"current_state\"])\n",
    "            reward = e[\"reward\"]\n",
    "            if not e[\"done\"]:\n",
    "                reward = reward + self.discount_factor*np.max(self.model.predict(e[\"next_state\"])[0])\n",
    "            current_state[0][e[\"action\"]] = reward\n",
    "            self.model.fit(e[\"current_state\"], current_state, verbose=0)"
   ]
  },
  {
   "cell_type": "code",
   "execution_count": 9,
   "id": "a881d4de-67de-47ae-ae6a-655b08019e84",
   "metadata": {},
   "outputs": [],
   "source": [
    "import Box2D\n",
    "from Box2D.b2 import (\n",
    "    edgeShape,\n",
    "    circleShape,\n",
    "    fixtureDef,\n",
    "    polygonShape,\n",
    "    revoluteJointDef,\n",
    "    contactListener,\n",
    ")\n",
    "\n",
    "env = gym.make('MountainCar-v0')\n",
    "states = env.observation_space.shape[0]\n",
    "action = env.action_space.n"
   ]
  },
  {
   "cell_type": "code",
   "execution_count": null,
   "id": "16939e0d",
   "metadata": {
    "colab": {
     "base_uri": "https://localhost:8080/"
    },
    "id": "16939e0d",
    "outputId": "33cafa42-c809-4e45-bf20-8370c0bf3cf5"
   },
   "outputs": [
    {
     "name": "stdout",
     "output_type": "stream",
     "text": [
      "0\n"
     ]
    }
   ],
   "source": [
    "env = env.unwrapped\n",
    "env = gym.wrappers.Monitor(env,directory='mountain-car/',force=True,write_upon_reset=True)\n",
    "episodes = 100\n",
    "episode_count = 0;\n",
    "agent = Agent(states, action)\n",
    "\n",
    "total_rewards = 0\n",
    "final_reward = 0\n",
    "count = 0\n",
    "\n",
    "epsilon_arr = list()\n",
    "performance = list()\n",
    "done = False\n",
    "reward = 0 \n",
    "for e in range(episodes):    \n",
    "    current_state = env.reset()\n",
    "    current_state = np.array([current_state])\n",
    "    print(e)\n",
    "    while (done == False):\n",
    "        clear_output(wait=True)\n",
    "        time.sleep(0.01)\n",
    "        plt.show()\n",
    "        action = agent.greedy(current_state)\n",
    "        next_state, reward, done, _ = env.step(action)\n",
    "        next_state = np.array([next_state])\n",
    "        agent.replay(current_state, action, reward, next_state, done)\n",
    "        if done:\n",
    "            agent.epsilon_decay()\n",
    "            epsilon_arr.append(agent.epsilon_decay())\n",
    "            break\n",
    "        current_state = next_state\n",
    "        total_rewards += reward\n",
    "        count+=1\n",
    "\n",
    "    if count >= agent.batch_size:    \n",
    "        agent.train()\n",
    "    episode_count += 1\n",
    "    final_reward += total_rewards\n",
    "    performance.append(total_rewards)\n",
    "\n",
    "print(\"Total Rewards - \", final_reward)\n",
    "print(\"Performance - Total Rewards/Number of Episodes\",(final_reward/episodes))"
   ]
  },
  {
   "cell_type": "code",
   "execution_count": null,
   "id": "8f2e13fb-4c1b-4bc7-a08a-5c2ab04bc0c1",
   "metadata": {},
   "outputs": [],
   "source": []
  }
 ],
 "metadata": {
  "colab": {
   "collapsed_sections": [],
   "name": "Midterm2.ipynb",
   "provenance": []
  },
  "kernelspec": {
   "display_name": "Python 3 (ipykernel)",
   "language": "python",
   "name": "python3"
  },
  "language_info": {
   "codemirror_mode": {
    "name": "ipython",
    "version": 3
   },
   "file_extension": ".py",
   "mimetype": "text/x-python",
   "name": "python",
   "nbconvert_exporter": "python",
   "pygments_lexer": "ipython3",
   "version": "3.7.11"
  }
 },
 "nbformat": 4,
 "nbformat_minor": 5
}
